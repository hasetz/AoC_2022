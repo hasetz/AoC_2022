{
 "cells": [
  {
   "cell_type": "code",
   "execution_count": 10,
   "id": "7a89ebcc-085a-49e9-aa16-ebf4223f80b6",
   "metadata": {},
   "outputs": [],
   "source": [
    "import numpy as np\n",
    "from ast import literal_eval\n",
    "\n",
    "with open('../data/day13.txt') as f:\n",
    "    input_data = [literal_eval(lst) for lst in f.read().split('\\n') if lst]"
   ]
  },
  {
   "cell_type": "code",
   "execution_count": null,
   "id": "6539dab7-c1ef-463f-b328-69499b302c0f",
   "metadata": {},
   "outputs": [],
   "source": []
  }
 ],
 "metadata": {
  "kernelspec": {
   "display_name": "Python 3 (ipykernel)",
   "language": "python",
   "name": "python3"
  },
  "language_info": {
   "codemirror_mode": {
    "name": "ipython",
    "version": 3
   },
   "file_extension": ".py",
   "mimetype": "text/x-python",
   "name": "python",
   "nbconvert_exporter": "python",
   "pygments_lexer": "ipython3",
   "version": "3.10.4"
  }
 },
 "nbformat": 4,
 "nbformat_minor": 5
}
