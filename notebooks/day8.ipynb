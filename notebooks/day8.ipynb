{
 "cells": [
  {
   "cell_type": "markdown",
   "id": "ba88c6c8-4d0c-4187-b4f1-df0392941cab",
   "metadata": {},
   "source": [
    "--- Day 8: Treetop Tree House ---\n",
    "\n",
    "The expedition comes across a peculiar patch of tall trees all planted carefully in a grid. The Elves explain that a previous expedition planted these trees as a reforestation effort. Now, they're curious if this would be a good location for a tree house.\n",
    "\n",
    "First, determine whether there is enough tree cover here to keep a tree house hidden. To do this, you need to count the number of trees that are visible from outside the grid when looking directly along a row or column.\n",
    "\n",
    "The Elves have already launched a quadcopter to generate a map with the height of each tree (your puzzle input). For example:\n",
    "\n",
    "30373\n",
    "25512\n",
    "65332\n",
    "33549\n",
    "35390\n",
    "Each tree is represented as a single digit whose value is its height, where 0 is the shortest and 9 is the tallest.\n",
    "\n",
    "A tree is visible if all of the other trees between it and an edge of the grid are shorter than it. Only consider trees in the same row or column; that is, only look up, down, left, or right from any given tree.\n",
    "\n",
    "All of the trees around the edge of the grid are visible - since they are already on the edge, there are no trees to block the view. In this example, that only leaves the interior nine trees to consider:\n",
    "\n",
    "The top-left 5 is visible from the left and top. (It isn't visible from the right or bottom since other trees of height 5 are in the way.)\n",
    "The top-middle 5 is visible from the top and right.\n",
    "The top-right 1 is not visible from any direction; for it to be visible, there would need to only be trees of height 0 between it and an edge.\n",
    "The left-middle 5 is visible, but only from the right.\n",
    "The center 3 is not visible from any direction; for it to be visible, there would need to be only trees of at most height 2 between it and an edge.\n",
    "The right-middle 3 is visible from the right.\n",
    "In the bottom row, the middle 5 is visible, but the 3 and 4 are not.\n",
    "With 16 trees visible on the edge and another 5 visible in the interior, a total of 21 trees are visible in this arrangement.\n",
    "\n",
    "Consider your map; how many trees are visible from outside the grid?"
   ]
  },
  {
   "cell_type": "code",
   "execution_count": 1,
   "id": "b85c8fc3-d344-46d3-b8c5-0e7d09932dbb",
   "metadata": {},
   "outputs": [],
   "source": [
    "import numpy as np\n",
    "\n",
    "with open('../data/day8.txt') as f:\n",
    "    input_data = [[int(el) for el in list(line.rstrip())] for line in f]\n",
    "    \n",
    "grid = np.array([np.array(row) for row in input_data])"
   ]
  },
  {
   "cell_type": "code",
   "execution_count": 2,
   "id": "30e45ab5-7a79-4155-a4b4-100c793faa9a",
   "metadata": {},
   "outputs": [],
   "source": [
    "def is_highest_array(height, row, reverse=True):\n",
    "    if np.size(row): #np.any equals false with [0] array :(\n",
    "        if height <= np.max(row):\n",
    "            return False\n",
    "        else:\n",
    "            return True\n",
    "    return True\n",
    "\n",
    "\n",
    "def check_tree(coords, grid):\n",
    "    row, col = coords\n",
    "    height = grid[row, col]\n",
    "    left = is_highest_array(height, grid[row, :col])\n",
    "    right = is_highest_array(height, grid[row, col+1:])\n",
    "    up = is_highest_array(height, grid[:row, col])\n",
    "    down = is_highest_array(height, grid[row+1:, col])\n",
    "    return left or right or up or down\n",
    "\n",
    "        "
   ]
  },
  {
   "cell_type": "code",
   "execution_count": 7,
   "id": "a939efbc-94cb-4877-9023-d8b7e6464bc3",
   "metadata": {},
   "outputs": [],
   "source": [
    "def get_visible_mask(grid):\n",
    "    trees = []\n",
    "    coords_list = []\n",
    "\n",
    "    for r, row in enumerate(grid):\n",
    "        row_trees = []\n",
    "        for c, col in enumerate(row):\n",
    "            coords = (r, c)\n",
    "            coords_list.append(coords)\n",
    "            row_trees.append(check_tree(coords, grid))\n",
    "            \n",
    "        trees.append(np.array(row_trees))\n",
    "    return np.array(trees)\n"
   ]
  },
  {
   "cell_type": "code",
   "execution_count": 8,
   "id": "3e49e460-04c7-4fad-ad72-c66206154ccf",
   "metadata": {},
   "outputs": [
    {
     "data": {
      "text/plain": [
       "1782"
      ]
     },
     "execution_count": 8,
     "metadata": {},
     "output_type": "execute_result"
    }
   ],
   "source": [
    "sum(sum(get_visible_mask(grid)))"
   ]
  },
  {
   "cell_type": "markdown",
   "id": "16d168b7-c464-4732-bb4e-e6cfee0e817c",
   "metadata": {},
   "source": [
    "--- Part Two ---\n",
    "\n",
    "Content with the amount of tree cover available, the Elves just need to know the best spot to build their tree house: they would like to be able to see a lot of trees.\n",
    "\n",
    "To measure the viewing distance from a given tree, look up, down, left, and right from that tree; stop if you reach an edge or at the first tree that is the same height or taller than the tree under consideration. (If a tree is right on the edge, at least one of its viewing distances will be zero.)\n",
    "\n",
    "The Elves don't care about distant trees taller than those found by the rules above; the proposed tree house has large eaves to keep it dry, so they wouldn't be able to see higher than the tree house anyway.\n",
    "\n",
    "In the example above, consider the middle 5 in the second row:\n",
    "\n",
    "30373\n",
    "25512\n",
    "65332\n",
    "33549\n",
    "35390\n",
    "Looking up, its view is not blocked; it can see 1 tree (of height 3).\n",
    "Looking left, its view is blocked immediately; it can see only 1 tree (of height 5, right next to it).\n",
    "Looking right, its view is not blocked; it can see 2 trees.\n",
    "Looking down, its view is blocked eventually; it can see 2 trees (one of height 3, then the tree of height 5 that blocks its view).\n",
    "A tree's scenic score is found by multiplying together its viewing distance in each of the four directions. For this tree, this is 4 (found by multiplying 1 * 1 * 2 * 2).\n",
    "\n",
    "However, you can do even better: consider the tree of height 5 in the middle of the fourth row:\n",
    "\n",
    "30373\n",
    "25512\n",
    "65332\n",
    "33549\n",
    "35390\n",
    "Looking up, its view is blocked at 2 trees (by another tree with a height of 5).\n",
    "Looking left, its view is not blocked; it can see 2 trees.\n",
    "Looking down, its view is also not blocked; it can see 1 tree.\n",
    "Looking right, its view is blocked at 2 trees (by a massive tree of height 9).\n",
    "This tree's scenic score is 8 (2 * 2 * 1 * 2); this is the ideal spot for the tree house.\n",
    "\n",
    "Consider each tree on your map. What is the highest scenic score possible for any tree?\n",
    "\n"
   ]
  },
  {
   "cell_type": "code",
   "execution_count": 30,
   "id": "2e0e6a94-0114-4d93-a56d-026b0fa69fd8",
   "metadata": {},
   "outputs": [],
   "source": [
    "def visible_trees(height, row, reverse=True):\n",
    "    if reverse:\n",
    "        row = row[::-1]\n",
    "    if np.size(row): #np.any equals false with [0] array :(\n",
    "        local_max = 0\n",
    "        total_trees = 0\n",
    "        for tree in row:\n",
    "            if height <= tree:\n",
    "                total_trees += 1\n",
    "                return total_trees\n",
    "            elif tree > local_max:\n",
    "                total_trees += 1\n",
    "                local_max = tree\n",
    "            else:\n",
    "                total_trees += 1\n",
    "        return total_trees\n",
    "    return 0\n",
    "\n",
    "def senic_score(coords, grid):\n",
    "    row, col = coords\n",
    "    height = grid[row, col]\n",
    "    left = visible_trees(height, grid[row, :col], reverse=True)\n",
    "    right = visible_trees(height, grid[row, col+1:], reverse=False)\n",
    "    up = visible_trees(height, grid[:row, col], reverse=True)\n",
    "    down = visible_trees(height, grid[row+1:, col], reverse=False)\n",
    "    return left * right * up * down"
   ]
  },
  {
   "cell_type": "code",
   "execution_count": 32,
   "id": "e54dea89-e65e-49c2-b00b-5f65e2600081",
   "metadata": {},
   "outputs": [
    {
     "data": {
      "text/plain": [
       "474606"
      ]
     },
     "execution_count": 32,
     "metadata": {},
     "output_type": "execute_result"
    }
   ],
   "source": [
    "def get_senic_mask(grid):\n",
    "    trees = []\n",
    "\n",
    "    for r, row in enumerate(grid):\n",
    "        row_trees = []\n",
    "        for c, col in enumerate(row):\n",
    "            coords = (r, c)\n",
    "            row_trees.append(senic_score(coords, grid))\n",
    "            \n",
    "        trees.append(np.array(row_trees))\n",
    "    return np.array(trees)\n",
    "\n",
    "\n",
    "get_senic_mask(grid).max()"
   ]
  },
  {
   "cell_type": "code",
   "execution_count": 17,
   "id": "48f1d331-cee6-44a0-aa7f-1343dce586c8",
   "metadata": {},
   "outputs": [],
   "source": [
    "test = np.random.randint(10, size=(5,5))"
   ]
  },
  {
   "cell_type": "code",
   "execution_count": 27,
   "id": "99fe28ed-0065-4570-b3ea-9d67e82b7285",
   "metadata": {},
   "outputs": [
    {
     "name": "stdout",
     "output_type": "stream",
     "text": [
      "left\n",
      "[3 8]\n",
      "right\n",
      "[1 9]\n",
      "up\n",
      "[]\n",
      "down\n",
      "[4 2 5 3]\n"
     ]
    },
    {
     "data": {
      "text/plain": [
       "0"
      ]
     },
     "execution_count": 27,
     "metadata": {},
     "output_type": "execute_result"
    }
   ],
   "source": [
    "senic_score((0,2), test)"
   ]
  },
  {
   "cell_type": "code",
   "execution_count": 24,
   "id": "f07ced00-273f-4c96-947f-958997367b24",
   "metadata": {},
   "outputs": [
    {
     "data": {
      "text/plain": [
       "array([[8, 3, 7, 1, 9],\n",
       "       [3, 2, 4, 2, 0],\n",
       "       [4, 8, 2, 4, 5],\n",
       "       [8, 6, 5, 7, 9],\n",
       "       [9, 0, 3, 2, 5]])"
      ]
     },
     "execution_count": 24,
     "metadata": {},
     "output_type": "execute_result"
    }
   ],
   "source": [
    "test"
   ]
  },
  {
   "cell_type": "code",
   "execution_count": null,
   "id": "0ebbadca-8f8e-47ec-9f77-c19ddac9add6",
   "metadata": {},
   "outputs": [],
   "source": []
  }
 ],
 "metadata": {
  "kernelspec": {
   "display_name": "Python 3 (ipykernel)",
   "language": "python",
   "name": "python3"
  },
  "language_info": {
   "codemirror_mode": {
    "name": "ipython",
    "version": 3
   },
   "file_extension": ".py",
   "mimetype": "text/x-python",
   "name": "python",
   "nbconvert_exporter": "python",
   "pygments_lexer": "ipython3",
   "version": "3.9.6"
  }
 },
 "nbformat": 4,
 "nbformat_minor": 5
}
