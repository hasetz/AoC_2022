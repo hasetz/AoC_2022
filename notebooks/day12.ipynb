{
 "cells": [
  {
   "cell_type": "markdown",
   "id": "38a603e5-e7d4-4d6d-9d64-5788ab149960",
   "metadata": {},
   "source": [
    "## Part 1"
   ]
  },
  {
   "cell_type": "markdown",
   "id": "de88fd38-0270-4881-9a17-1c47ccfe322e",
   "metadata": {},
   "source": [
    "## Rules\n",
    "\n",
    "- As few steps as possible\n",
    "- from S to E\n",
    "- S == a\n",
    "- no more then one step up"
   ]
  },
  {
   "cell_type": "code",
   "execution_count": 5,
   "id": "0b1fede0-511e-46cb-939a-7eb8d3e0973b",
   "metadata": {},
   "outputs": [
    {
     "data": {
      "text/plain": [
       "['abaccccccccccccccaaaccccaaaaaaaaaaaaaccccccaacccccccccccccccccccccccccccccaaaaaa',\n",
       " 'abaaccaacccccccccaaaaaccccaaaaaaaaaaaaaccccaaacccccccccccccccccccccccccccccaaaaa',\n",
       " 'abaaccaaacccccccaaaaaacccaaaaaaaaaaaaaacaaaaaaaaccccccccaacccccccccccccccccccaaa',\n",
       " 'abcaaaaaaaacccccaaaaaacccaaaaaaaaaaaaaacaaaaaaaacccccccaaaacccccccccccccccccaaaa',\n",
       " 'abcaaaaaaaaccccccaaaaaccaaaaaaaaccaaaaaccaaaaaaccccccccaaaaccaaaccccccccccccaaac',\n",
       " 'abccaaaaaacccccccaaaaccaaaaaaaaaacaaaacccaaaaaacccccccccakkaaaaaacccccccccccaacc',\n",
       " 'abccaaaaaacccccccccccccaaaaaaaaaaccccccccaaaaaaccccccckkkkkkkaaacccccccccccccccc',\n",
       " 'abccaaaaaaccccccccccccccccaaaaaaaaaccccccaacaaacccccckkkkkkkkkaccccccaccaaaccccc',\n",
       " 'abccaacaaacccccaaccccccccaaacacaaaacaaccccccccccccccakkkoppkkkkicccccaaaaaaccccc',\n",
       " 'abccccccccccccaaaccccccccaacccccaaaaaaccccccccccccccjkkooppppkiicccccccaaaaccccc',\n",
       " 'abccccccccccaaaaaaaaccccccccccaaaaaaaccccccccccccccjjjooopppppiiiicccccccaaacccc',\n",
       " 'abaaacccccccaaaaaaaacccccccaacaaaaaaccccccccccccccjjjjooouuppppiiiiiicccccaacccc',\n",
       " 'abaaaccccccccaaaaaaccccccccaaaccaaaaacccccccccccjjjjjooouuuupppiiiiiiiiccccacccc',\n",
       " 'abaaaaaacccccaaaaaacccccaaaaaaaaaacaaaccccccccjjjjjjooouuuuuupppppiiiiiicccccccc',\n",
       " 'abaaaaaacccccaaaaaacccccaaaaaaaaaacccccccccccjjjjjooooouuxxuupppppqqqijjjccccccc',\n",
       " 'abaaaacccccaaaaccaaccccccaaaaaaccccccccccccciijjnooooouuuxxxuuupqqqqqqjjjdddcccc',\n",
       " 'abaaaaaccaaaaaaccacccccccaaaaaaccccccccccaaiiiinnootttuuxxxxuuvvvvvqqqjjjdddcccc',\n",
       " 'abaaaaaccaaaaaacaaaccaaccaaaaaaccccccccccaaiiinnnntttttuxxxxxvvvvvvqqqjjjdddcccc',\n",
       " 'abaaccacccaaaaacaaaaaaaccaaccaaccccccccccaaiiinnnttttxxxxxxxyyyyyvvqqqjjjdddcccc',\n",
       " 'abcccccccaaaaacccaaaaaaccccccaaaaacccccccaaiiinnntttxxxxxxxyyyyyvvvqqqjjjddccccc',\n",
       " 'SbcccccccaaaaacaaaaaaaaccccccaaaaaccccccccciiinnntttxxxEzzzzyyyyvvqqqjjjdddccccc',\n",
       " 'abcccccccccccccaaaaaaaaaccccaaaaaaccccccccciiinnnntttxxxxyyyyyvvvvqqjjjdddcccccc',\n",
       " 'abcccccccccccccaaaaaaaaaacccaaaaaacccccccccciiinnnttttxxxyyyyyvvvqqqjjjdddcccccc',\n",
       " 'abccccccccccccccccaaaaaaacccaaaaaaccccccccccciiinnnntttwyyywyyyvvrrrkkjdddcccccc',\n",
       " 'abcccccccccccccccaaaaaaaaccccaaaccccccccccccciiihnnnttwwwywwyyywvrrrkkkeeccccccc',\n",
       " 'abcccccccccccccccaaaaaaaaccccccccccccccccccccchhhmmmsswwwwwwwwwwwvrrkkkeeccccccc',\n",
       " 'abcccccccaacccccccacaaacccccccccccccccccccaacchhhhmmsswwwwwswwwwwrrrkkkeeccccccc',\n",
       " 'abcccccccaaaccacccccaaacccccccccccccccaaccaaccchhhmmssswwwssrrwwwrrrkkkeeccccccc',\n",
       " 'abcccccccaaaaaaacccccccccccaaaccccccccaaaaaaccchhhmmssssssssrrrrrrrrkkkeeaaacccc',\n",
       " 'abcccccaaaaaaaaccccccccccccaaaaccccccccaaaaaaachhhmmmssssssllrrrrrrkkkeeeaaacccc',\n",
       " 'abccccaaaaaaaaaccccccccccccaaaacccccccccaaaaacchhhmmmmsssllllllllkkkkkeeeaaacccc',\n",
       " 'abccccaaaaaaaaaccccccccccccaaacccccccccaaaaacccchhhmmmmmlllllllllkkkkeeeeaaccccc',\n",
       " 'abcccccccaaaaaaccccccccccaacccccccaaccaaacaacccchhhmmmmmlllgfflllkkffeeeaaaacccc',\n",
       " 'abccccccaaaaaaaccccccccccaaaaaaaaaaaaaccccaacccchhhggmmmggggffffffffffeaaaaacccc',\n",
       " 'abccaacccaacccaaaaccaccccaaaaaaaaaaaaacccccccccccgggggggggggffffffffffaacccccccc',\n",
       " 'abaaaaccaaaccccaaaaaaccccaaaaaacaaaaaaccccccccccccgggggggggaaaaccffccccccccccccc',\n",
       " 'abaaaacccccccccaaaaaaccaaaaaaaaaaaaaacccccccccccccccgggaaaaaaaacccccccccccccccca',\n",
       " 'abaaaaacccccccaaaaaaaccaaaaaaaaaaaaaacccccccccccccccccaaacccaaaaccccccccccccccaa',\n",
       " 'abaaaaacaaaaccaaaaaaaacaaaaaaaaaaaccccccccccccccccccccaaaccccaaaccccccccccaaacaa',\n",
       " 'abaaaaacaaaaccaaaaaaaaaaaaaaaaaaacccccccccccccccccccccccccccccccccccccccccaaaaaa',\n",
       " 'abaaacccaaaaccccaaaccccaaaaaaaaaaacccccccccccccccccccccccccccccccccccccccccaaaaa']"
      ]
     },
     "execution_count": 5,
     "metadata": {},
     "output_type": "execute_result"
    }
   ],
   "source": [
    "import numpy as np\n",
    "\n",
    "with open('../data/day12.txt') as f:\n",
    "    input_data = f.read().split('\\n')\n",
    "\n",
    "input_data"
   ]
  },
  {
   "cell_type": "code",
   "execution_count": 42,
   "id": "c9b96cc4-dc0e-4242-ae58-b17312f0c2d4",
   "metadata": {},
   "outputs": [],
   "source": [
    "input_letters = set(list(''.join(input_data)))\n",
    "\n",
    "mapper = {char:ord(char) - 96 for char in input_letters}\n",
    "mapper['S'] = 0\n",
    "mapper['E'] = 27"
   ]
  },
  {
   "cell_type": "code",
   "execution_count": 43,
   "id": "4a0d9918-c15a-48f9-9162-8e5798590aae",
   "metadata": {},
   "outputs": [
    {
     "data": {
      "text/plain": [
       "matrix([[1, 2, 1, ..., 1, 1, 1],\n",
       "        [1, 2, 1, ..., 1, 1, 1],\n",
       "        [1, 2, 1, ..., 1, 1, 1],\n",
       "        ...,\n",
       "        [1, 2, 1, ..., 3, 1, 1],\n",
       "        [1, 2, 1, ..., 1, 1, 1],\n",
       "        [1, 2, 1, ..., 1, 1, 1]])"
      ]
     },
     "execution_count": 43,
     "metadata": {},
     "output_type": "execute_result"
    }
   ],
   "source": [
    "input_matrix = np.matrix([[mapper[letter]for letter in list(input_data[i])] for i in range(len(input_data))])\n",
    "input_matrix"
   ]
  },
  {
   "cell_type": "code",
   "execution_count": 62,
   "id": "1a4c2ccc-6870-49e4-9ec4-6e52b8e3c5aa",
   "metadata": {},
   "outputs": [],
   "source": [
    "def get_height_index(height, input_matrix):\n",
    "    filter_matrix = np.where(input_matrix == height)\n",
    "    return [(x,y) for x,y in zip(filter_matrix[0],filter_matrix[1])][0]\n",
    "\n",
    "def get_neighbour_coords(current_coord):\n",
    "    left = (current_coord[0] - 1, current_coord[1])\n",
    "    right = (current_coord[0] + 1, current_coord[1])\n",
    "    up = (current_coord[0], current_coord[1] + 1)\n",
    "    down = (current_coord[0], current_coord[1] - 1)\n",
    "    return left, right, up, down\n",
    "\n",
    "def walk(distance_matrix, visited_matrix):\n",
    "    not_visited = distance_matrix[visited_matrix == 0]\n",
    "    min_coords = np.where(distance_matrix == not_visited.min())\n",
    "    min_coords_list = [(x,y) for x,y in zip(min_coords[0], min_coords[1])]\n",
    "    min_value_not_visited = [i for i in min_coords_list if visited_matrix[i] == 0]\n",
    "    return min_value_not_visited[0]\n",
    "\n",
    "def dijkstra_walk(input_matrix, start, break_condition):\n",
    "    distance_matrix = np.matrix(np.ones(input_matrix.shape) * np.inf)\n",
    "    distance_matrix[start] = 0\n",
    "    visited_matrix = np.zeros(input_matrix.shape)\n",
    "\n",
    "    current_coords = start\n",
    "    current_height = 0\n",
    "    while break_condition(current_height):\n",
    "            visited_matrix[current_coords] = 1\n",
    "            current_height = input_matrix[current_coords]\n",
    "            for direction in get_neighbour_coords(current_coords):\n",
    "                try: \n",
    "                    if input_matrix[direction] < current_height + 2 and visited_matrix[direction] == 0:\n",
    "                        distance_matrix[direction] = distance_matrix[current_coords] + 1\n",
    "                except IndexError:\n",
    "                    pass\n",
    "            current_coords = walk(distance_matrix, visited_matrix)\n",
    "    return distance_matrix[current_coords]"
   ]
  },
  {
   "cell_type": "code",
   "execution_count": 63,
   "id": "f5a02048-a25a-4133-bc03-2cf1d9cebe62",
   "metadata": {},
   "outputs": [
    {
     "data": {
      "text/plain": [
       "391.0"
      ]
     },
     "execution_count": 63,
     "metadata": {},
     "output_type": "execute_result"
    }
   ],
   "source": [
    "dijkstra_walk(input_matrix, start, break_condition)"
   ]
  },
  {
   "cell_type": "markdown",
   "id": "b3e47a52-a026-47f0-bbb0-8a76cb3fc4c4",
   "metadata": {
    "tags": []
   },
   "source": [
    "## Part 2"
   ]
  },
  {
   "cell_type": "code",
   "execution_count": 69,
   "id": "de2a2f96-ced3-48b2-a6d9-63872fef6a43",
   "metadata": {},
   "outputs": [],
   "source": [
    "def dijkstra_walk_backwards(input_matrix, start_coords, start_height, break_condition):\n",
    "    distance_matrix = np.matrix(np.ones(input_matrix.shape) * np.inf)\n",
    "    distance_matrix[start_coords] = 0\n",
    "    visited_matrix = np.zeros(input_matrix.shape)\n",
    "\n",
    "    current_coords = start_coords\n",
    "    current_height = start_height\n",
    "    while break_condition(current_height):\n",
    "            visited_matrix[current_coords] = 1\n",
    "            current_height = input_matrix[current_coords]\n",
    "            for direction in get_neighbour_coords(current_coords):\n",
    "                try: \n",
    "                    if input_matrix[direction] > current_height - 2 and visited_matrix[direction] == 0:\n",
    "                        distance_matrix[direction] = distance_matrix[current_coords] + 1\n",
    "                except IndexError:\n",
    "                    pass\n",
    "            current_coords = walk(distance_matrix, visited_matrix)\n",
    "    return distance_matrix[current_coords]"
   ]
  },
  {
   "cell_type": "code",
   "execution_count": 70,
   "id": "83e0bb72-8c12-4fde-a962-cba7bb7afe85",
   "metadata": {},
   "outputs": [
    {
     "data": {
      "text/plain": [
       "386.0"
      ]
     },
     "execution_count": 70,
     "metadata": {},
     "output_type": "execute_result"
    }
   ],
   "source": [
    "start_height = 27\n",
    "break_condition = lambda d: d > 1\n",
    "start_coords = get_height_index(start_height, input_matrix)\n",
    "\n",
    "dijkstra_walk_backwards(input_matrix, start_coords, start_height, break_condition)"
   ]
  },
  {
   "cell_type": "code",
   "execution_count": null,
   "id": "a9cbfdbf-605e-4d67-bf68-9b46a966bd4c",
   "metadata": {},
   "outputs": [],
   "source": []
  }
 ],
 "metadata": {
  "kernelspec": {
   "display_name": "Python 3 (ipykernel)",
   "language": "python",
   "name": "python3"
  },
  "language_info": {
   "codemirror_mode": {
    "name": "ipython",
    "version": 3
   },
   "file_extension": ".py",
   "mimetype": "text/x-python",
   "name": "python",
   "nbconvert_exporter": "python",
   "pygments_lexer": "ipython3",
   "version": "3.10.4"
  }
 },
 "nbformat": 4,
 "nbformat_minor": 5
}
