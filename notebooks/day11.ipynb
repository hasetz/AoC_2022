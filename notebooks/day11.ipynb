{
 "cells": [
  {
   "cell_type": "markdown",
   "id": "4d08574f-bbad-4a45-94ff-e227e6aaf446",
   "metadata": {},
   "source": [
    "### Part 1"
   ]
  },
  {
   "cell_type": "code",
   "execution_count": 6,
   "id": "f4663065-c7cb-46cc-bf6f-39e557164834",
   "metadata": {},
   "outputs": [
    {
     "data": {
      "text/plain": [
       "[['Monkey 0:',\n",
       "  '  Starting items: 77, 69, 76, 77, 50, 58',\n",
       "  '  Operation: new = old * 11',\n",
       "  '  Test: divisible by 5',\n",
       "  '    If true: throw to monkey 1',\n",
       "  '    If false: throw to monkey 5'],\n",
       " ['Monkey 1:',\n",
       "  '  Starting items: 75, 70, 82, 83, 96, 64, 62',\n",
       "  '  Operation: new = old + 8',\n",
       "  '  Test: divisible by 17',\n",
       "  '    If true: throw to monkey 5',\n",
       "  '    If false: throw to monkey 6'],\n",
       " ['Monkey 2:',\n",
       "  '  Starting items: 53',\n",
       "  '  Operation: new = old * 3',\n",
       "  '  Test: divisible by 2',\n",
       "  '    If true: throw to monkey 0',\n",
       "  '    If false: throw to monkey 7'],\n",
       " ['Monkey 3:',\n",
       "  '  Starting items: 85, 64, 93, 64, 99',\n",
       "  '  Operation: new = old + 4',\n",
       "  '  Test: divisible by 7',\n",
       "  '    If true: throw to monkey 7',\n",
       "  '    If false: throw to monkey 2'],\n",
       " ['Monkey 4:',\n",
       "  '  Starting items: 61, 92, 71',\n",
       "  '  Operation: new = old * old',\n",
       "  '  Test: divisible by 3',\n",
       "  '    If true: throw to monkey 2',\n",
       "  '    If false: throw to monkey 3'],\n",
       " ['Monkey 5:',\n",
       "  '  Starting items: 79, 73, 50, 90',\n",
       "  '  Operation: new = old + 2',\n",
       "  '  Test: divisible by 11',\n",
       "  '    If true: throw to monkey 4',\n",
       "  '    If false: throw to monkey 6'],\n",
       " ['Monkey 6:',\n",
       "  '  Starting items: 50, 89',\n",
       "  '  Operation: new = old + 3',\n",
       "  '  Test: divisible by 13',\n",
       "  '    If true: throw to monkey 4',\n",
       "  '    If false: throw to monkey 3'],\n",
       " ['Monkey 7:',\n",
       "  '  Starting items: 83, 56, 64, 58, 93, 91, 56, 65',\n",
       "  '  Operation: new = old + 5',\n",
       "  '  Test: divisible by 19',\n",
       "  '    If true: throw to monkey 1',\n",
       "  '    If false: throw to monkey 0']]"
      ]
     },
     "execution_count": 6,
     "metadata": {},
     "output_type": "execute_result"
    }
   ],
   "source": [
    "with open('../data/day11.txt') as f:\n",
    "    input_data = f.read()\n",
    "    \n",
    "[i.split('\\n') for i in input_data.split('\\n\\n')]"
   ]
  },
  {
   "cell_type": "code",
   "execution_count": null,
   "id": "c8ace91e-a36d-45c0-97c7-6cb67feb458f",
   "metadata": {},
   "outputs": [],
   "source": []
  }
 ],
 "metadata": {
  "kernelspec": {
   "display_name": "Python 3 (ipykernel)",
   "language": "python",
   "name": "python3"
  },
  "language_info": {
   "codemirror_mode": {
    "name": "ipython",
    "version": 3
   },
   "file_extension": ".py",
   "mimetype": "text/x-python",
   "name": "python",
   "nbconvert_exporter": "python",
   "pygments_lexer": "ipython3",
   "version": "3.10.4"
  }
 },
 "nbformat": 4,
 "nbformat_minor": 5
}
