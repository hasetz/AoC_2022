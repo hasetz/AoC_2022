{
 "cells": [
  {
   "cell_type": "markdown",
   "id": "4d08574f-bbad-4a45-94ff-e227e6aaf446",
   "metadata": {},
   "source": [
    "### Part 1"
   ]
  },
  {
   "cell_type": "code",
   "execution_count": 5,
   "id": "f4663065-c7cb-46cc-bf6f-39e557164834",
   "metadata": {},
   "outputs": [],
   "source": [
    "import numpy as np\n",
    "\n",
    "with open('../data/day11.txt') as f:\n",
    "    input_data = [i.split('\\n') for i in f.read().split('\\n\\n')]"
   ]
  },
  {
   "cell_type": "code",
   "execution_count": 8,
   "id": "c8ace91e-a36d-45c0-97c7-6cb67feb458f",
   "metadata": {},
   "outputs": [
    {
     "data": {
      "text/plain": [
       "([<__main__.Monkey at 0x107ad7f10>,\n",
       "  <__main__.Monkey at 0x107ad7370>,\n",
       "  <__main__.Monkey at 0x107ad7280>,\n",
       "  <__main__.Monkey at 0x1079e0f40>,\n",
       "  <__main__.Monkey at 0x107abd270>,\n",
       "  <__main__.Monkey at 0x107abe3e0>,\n",
       "  <__main__.Monkey at 0x107abd2a0>,\n",
       "  <__main__.Monkey at 0x107abdde0>],\n",
       " 9699690)"
      ]
     },
     "execution_count": 8,
     "metadata": {},
     "output_type": "execute_result"
    }
   ],
   "source": [
    "class Monkey:\n",
    "    def __init__(self, name, items, operation, test, if_true, if_false):\n",
    "        self.name = name\n",
    "        self.items = items\n",
    "        self.operation = operation\n",
    "        self.test = test\n",
    "        self.if_true = if_true\n",
    "        self.if_false = if_false\n",
    "\n",
    "\n",
    "def get_monkeys(input_data):\n",
    "    monkeys = []\n",
    "    divisors = []\n",
    "    for monkey_raw in input_data:\n",
    "        divisors.append(int(monkey_raw[3].split()[-1]))\n",
    "        monkeys.append(\n",
    "            Monkey(\n",
    "                name=monkey_raw[0].split()[1][0],\n",
    "                items=[int(monkey_raw[1].split(',')[0].split(':')[-1])] + [int(i) for i in monkey_raw[1].split(',')[1:]] ,\n",
    "                operation=eval(f'lambda old: old {monkey_raw[2].split()[-2]} {monkey_raw[2].split()[-1]}'),\n",
    "                test=eval(f'lambda num: num % {monkey_raw[3].split()[-1]} == 0'),\n",
    "                if_true=int(monkey_raw[4].split()[-1]),\n",
    "                if_false=int(monkey_raw[5].split()[-1]),\n",
    "            )\n",
    "        )\n",
    "    return monkeys, np.prod(divisors)\n",
    "\n",
    "get_monkeys(input_data)"
   ]
  },
  {
   "cell_type": "code",
   "execution_count": 9,
   "id": "b0b1255e-da10-4cd4-9c36-9859f255d7fa",
   "metadata": {},
   "outputs": [],
   "source": [
    "monkeys, lcm = get_monkeys(input_data)\n",
    "monkey_inspect = [0 for i in range(len(monkeys))]\n",
    "\n",
    "for i in range(20):\n",
    "    for j in range(len(monkeys)):\n",
    "        while monkeys[j].items:\n",
    "            item = monkeys[j].items.pop(0)\n",
    "            monkey_inspect[j] += 1\n",
    "            new_worry_lvl = int(monkeys[j].operation(item) / 3)\n",
    "            if monkeys[j].test(new_worry_lvl):\n",
    "                monkeys[monkeys[j].if_true].items.append(new_worry_lvl)\n",
    "            else:\n",
    "                monkeys[monkeys[j].if_false].items.append(new_worry_lvl)\n",
    "                "
   ]
  },
  {
   "cell_type": "code",
   "execution_count": 10,
   "id": "c5049fb6-76f9-4172-b6e7-adcf79635600",
   "metadata": {},
   "outputs": [
    {
     "data": {
      "text/plain": [
       "57838"
      ]
     },
     "execution_count": 10,
     "metadata": {},
     "output_type": "execute_result"
    }
   ],
   "source": [
    "most, sec_most = sorted(monkey_inspect, reverse=True)[:2]\n",
    "\n",
    "most * sec_most"
   ]
  },
  {
   "cell_type": "markdown",
   "id": "83ee5186-1dda-4704-84b5-0612ff14d1a7",
   "metadata": {},
   "source": [
    "### Part 2"
   ]
  },
  {
   "cell_type": "code",
   "execution_count": 12,
   "id": "f3cb48c2-0fcb-48b4-a5dc-bfbe1517a8d4",
   "metadata": {},
   "outputs": [],
   "source": [
    "monkeys, lcm = get_monkeys(input_data)\n",
    "monkey_inspect = [0 for i in range(len(monkeys))]\n",
    "rounds = 10_000\n",
    "\n",
    "\n",
    "for i in range(rounds):\n",
    "    for j in range(len(monkeys)):\n",
    "        while monkeys[j].items:\n",
    "            item = monkeys[j].items.pop(0)\n",
    "            monkey_inspect[j] += 1\n",
    "            new_worry_lvl = monkeys[j].operation(item) % lcm\n",
    "            if monkeys[j].test(new_worry_lvl):\n",
    "                monkeys[monkeys[j].if_true].items.append(new_worry_lvl)\n",
    "            else:\n",
    "                monkeys[monkeys[j].if_false].items.append(new_worry_lvl)\n",
    "                "
   ]
  },
  {
   "cell_type": "code",
   "execution_count": 13,
   "id": "39a29cd7-fcd5-4047-abff-802940b475a7",
   "metadata": {},
   "outputs": [
    {
     "data": {
      "text/plain": [
       "15050382231"
      ]
     },
     "execution_count": 13,
     "metadata": {},
     "output_type": "execute_result"
    }
   ],
   "source": [
    "most, sec_most = sorted(monkey_inspect, reverse=True)[:2]\n",
    "\n",
    "most * sec_most"
   ]
  },
  {
   "cell_type": "code",
   "execution_count": null,
   "id": "2e4d463b-c83a-4215-8620-3fb2644271f9",
   "metadata": {},
   "outputs": [],
   "source": []
  }
 ],
 "metadata": {
  "kernelspec": {
   "display_name": "Python 3 (ipykernel)",
   "language": "python",
   "name": "python3"
  },
  "language_info": {
   "codemirror_mode": {
    "name": "ipython",
    "version": 3
   },
   "file_extension": ".py",
   "mimetype": "text/x-python",
   "name": "python",
   "nbconvert_exporter": "python",
   "pygments_lexer": "ipython3",
   "version": "3.10.4"
  }
 },
 "nbformat": 4,
 "nbformat_minor": 5
}
