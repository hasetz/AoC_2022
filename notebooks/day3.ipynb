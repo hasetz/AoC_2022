{
 "cells": [
  {
   "cell_type": "markdown",
   "id": "b472403c-460a-4f97-9ab1-d8d739da31cd",
   "metadata": {},
   "source": [
    "--- Day 3: Rucksack Reorganization ---\n",
    "One Elf has the important job of loading all of the rucksacks with supplies for the jungle journey. Unfortunately, that Elf didn't quite follow the packing instructions, and so a few items now need to be rearranged.\n",
    "\n",
    "Each rucksack has two large compartments. All items of a given type are meant to go into exactly one of the two compartments. The Elf that did the packing failed to follow this rule for exactly one item type per rucksack.\n",
    "\n",
    "The Elves have made a list of all of the items currently in each rucksack (your puzzle input), but they need your help finding the errors. Every item type is identified by a single lowercase or uppercase letter (that is, a and A refer to different types of items).\n",
    "\n",
    "The list of items for each rucksack is given as characters all on a single line. A given rucksack always has the same number of items in each of its two compartments, so the first half of the characters represent items in the first compartment, while the second half of the characters represent items in the second compartment.\n",
    "\n",
    "For example, suppose you have the following list of contents from six rucksacks:\n",
    "\n",
    "vJrwpWtwJgWrhcsFMMfFFhFp\n",
    "jqHRNqRjqzjGDLGLrsFMfFZSrLrFZsSL\n",
    "PmmdzqPrVvPwwTWBwg\n",
    "wMqvLMZHhHMvwLHjbvcjnnSBnvTQFn\n",
    "ttgJtRGJQctTZtZT\n",
    "CrZsJsPPZsGzwwsLwLmpwMDw\n",
    "The first rucksack contains the items vJrwpWtwJgWrhcsFMMfFFhFp, which means its first compartment contains the items vJrwpWtwJgWr, while the second compartment contains the items hcsFMMfFFhFp. The only item type that appears in both compartments is lowercase p.\n",
    "The second rucksack's compartments contain jqHRNqRjqzjGDLGL and rsFMfFZSrLrFZsSL. The only item type that appears in both compartments is uppercase L.\n",
    "The third rucksack's compartments contain PmmdzqPrV and vPwwTWBwg; the only common item type is uppercase P.\n",
    "The fourth rucksack's compartments only share item type v.\n",
    "The fifth rucksack's compartments only share item type t.\n",
    "The sixth rucksack's compartments only share item type s.\n",
    "To help prioritize item rearrangement, every item type can be converted to a priority:\n",
    "\n",
    "Lowercase item types a through z have priorities 1 through 26.\n",
    "Uppercase item types A through Z have priorities 27 through 52.\n",
    "In the above example, the priority of the item type that appears in both compartments of each rucksack is 16 (p), 38 (L), 42 (P), 22 (v), 20 (t), and 19 (s); the sum of these is 157.\n",
    "\n",
    "Find the item type that appears in both compartments of each rucksack. What is the sum of the priorities of those item types?\n",
    "\n"
   ]
  },
  {
   "cell_type": "code",
   "execution_count": 44,
   "id": "fafc3170-7b6f-43cc-ab3a-78dbaea036f8",
   "metadata": {},
   "outputs": [],
   "source": [
    "with open('../data/day3.txt') as f:\n",
    "    input_data = f.read()\n",
    "    \n",
    "elfs = input_data.split('\\n')"
   ]
  },
  {
   "cell_type": "code",
   "execution_count": 45,
   "id": "615b34dd-ee82-40c4-ae7e-e0a9f2cb81e8",
   "metadata": {},
   "outputs": [
    {
     "data": {
      "text/plain": [
       "7446"
      ]
     },
     "execution_count": 45,
     "metadata": {},
     "output_type": "execute_result"
    }
   ],
   "source": [
    "import string\n",
    "\n",
    "priority_map = dict(zip(string.ascii_lowercase + string.ascii_uppercase, list(range(1, 53))))\n",
    "\n",
    "prio_total = 0\n",
    "\n",
    "for elf in elfs:\n",
    "    first, second = elf[: int(len(elf)/2)], elf[int(len(elf)/2):]\n",
    "    for item in first:\n",
    "        if item in second:\n",
    "            prio_total += priority_map[item]\n",
    "            break\n",
    "prio_total  "
   ]
  },
  {
   "cell_type": "markdown",
   "id": "def1e01e-9e4d-4be1-bd6a-47460ead7863",
   "metadata": {},
   "source": [
    "--- Part Two ---\n",
    "As you finish identifying the misplaced items, the Elves come to you with another issue.\n",
    "\n",
    "For safety, the Elves are divided into groups of three. Every Elf carries a badge that identifies their group. For efficiency, within each group of three Elves, the badge is the only item type carried by all three Elves. That is, if a group's badge is item type B, then all three Elves will have item type B somewhere in their rucksack, and at most two of the Elves will be carrying any other item type.\n",
    "\n",
    "The problem is that someone forgot to put this year's updated authenticity sticker on the badges. All of the badges need to be pulled out of the rucksacks so the new authenticity stickers can be attached.\n",
    "\n",
    "Additionally, nobody wrote down which item type corresponds to each group's badges. The only way to tell which item type is the right one is by finding the one item type that is common between all three Elves in each group.\n",
    "\n",
    "Every set of three lines in your list corresponds to a single group, but each group can have a different badge item type. So, in the above example, the first group's rucksacks are the first three lines:\n",
    "\n",
    "vJrwpWtwJgWrhcsFMMfFFhFp\n",
    "jqHRNqRjqzjGDLGLrsFMfFZSrLrFZsSL\n",
    "PmmdzqPrVvPwwTWBwg\n",
    "And the second group's rucksacks are the next three lines:\n",
    "\n",
    "wMqvLMZHhHMvwLHjbvcjnnSBnvTQFn\n",
    "ttgJtRGJQctTZtZT\n",
    "CrZsJsPPZsGzwwsLwLmpwMDw\n",
    "In the first group, the only item type that appears in all three rucksacks is lowercase r; this must be their badges. In the second group, their badge item type must be Z.\n",
    "\n",
    "Priorities for these items must still be found to organize the sticker attachment efforts: here, they are 18 (r) for the first group and 52 (Z) for the second group. The sum of these is 70.\n",
    "\n",
    "Find the item type that corresponds to the badges of each three-Elf group. What is the sum of the priorities of those item types?"
   ]
  },
  {
   "cell_type": "code",
   "execution_count": 50,
   "id": "0f990f81-a5c6-4aa9-ba8f-b1b28b2c396c",
   "metadata": {},
   "outputs": [
    {
     "data": {
      "text/plain": [
       "2646"
      ]
     },
     "execution_count": 50,
     "metadata": {},
     "output_type": "execute_result"
    }
   ],
   "source": [
    "elf_groups = [elfs[i: i + 3] for i in range(0, len(elfs), 3)]\n",
    "\n",
    "total = 0\n",
    "\n",
    "for group in elf_groups:\n",
    "    for item in group[0]:\n",
    "        if item in group[1] and item in group[2]:\n",
    "            total += priority_map[item]\n",
    "            break\n",
    "            \n",
    "total"
   ]
  }
 ],
 "metadata": {
  "kernelspec": {
   "display_name": "Python 3 (ipykernel)",
   "language": "python",
   "name": "python3"
  },
  "language_info": {
   "codemirror_mode": {
    "name": "ipython",
    "version": 3
   },
   "file_extension": ".py",
   "mimetype": "text/x-python",
   "name": "python",
   "nbconvert_exporter": "python",
   "pygments_lexer": "ipython3",
   "version": "3.7.13"
  }
 },
 "nbformat": 4,
 "nbformat_minor": 5
}
