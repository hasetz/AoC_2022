{
 "cells": [
  {
   "cell_type": "markdown",
   "id": "ab1dbb6f-f087-4787-a16c-8cdbc0fff6fe",
   "metadata": {},
   "source": [
    "--- Day 2: Rock Paper Scissors ---\n",
    "The Elves begin to set up camp on the beach. To decide whose tent gets to be closest to the snack storage, a giant Rock Paper Scissors tournament is already in progress.\n",
    "\n",
    "Rock Paper Scissors is a game between two players. Each game contains many rounds; in each round, the players each simultaneously choose one of Rock, Paper, or Scissors using a hand shape. Then, a winner for that round is selected: Rock defeats Scissors, Scissors defeats Paper, and Paper defeats Rock. If both players choose the same shape, the round instead ends in a draw.\n",
    "\n",
    "Appreciative of your help yesterday, one Elf gives you an encrypted strategy guide (your puzzle input) that they say will be sure to help you win. \"The first column is what your opponent is going to play: A for Rock, B for Paper, and C for Scissors. The second column--\" Suddenly, the Elf is called away to help with someone's tent.\n",
    "\n",
    "The second column, you reason, must be what you should play in response: X for Rock, Y for Paper, and Z for Scissors. Winning every time would be suspicious, so the responses must have been carefully chosen.\n",
    "\n",
    "The winner of the whole tournament is the player with the highest score. Your total score is the sum of your scores for each round. The score for a single round is the score for the shape you selected (1 for Rock, 2 for Paper, and 3 for Scissors) plus the score for the outcome of the round (0 if you lost, 3 if the round was a draw, and 6 if you won).\n",
    "\n",
    "Since you can't be sure if the Elf is trying to help you or trick you, you should calculate the score you would get if you were to follow the strategy guide.\n",
    "\n",
    "For example, suppose you were given the following strategy guide:\n",
    "\n",
    "A Y\n",
    "B X\n",
    "C Z\n",
    "This strategy guide predicts and recommends the following:\n",
    "\n",
    "In the first round, your opponent will choose Rock (A), and you should choose Paper (Y). This ends in a win for you with a score of 8 (2 because you chose Paper + 6 because you won).\n",
    "In the second round, your opponent will choose Paper (B), and you should choose Rock (X). This ends in a loss for you with a score of 1 (1 + 0).\n",
    "The third round is a draw with both players choosing Scissors, giving you a score of 3 + 3 = 6.\n",
    "In this example, if you were to follow the strategy guide, you would get a total score of 15 (8 + 1 + 6).\n",
    "\n",
    "What would your total score be if everything goes exactly according to your strategy guide?"
   ]
  },
  {
   "cell_type": "code",
   "execution_count": 5,
   "id": "3ed697be-856a-4b34-87fd-5e51200b1215",
   "metadata": {},
   "outputs": [],
   "source": [
    "with open('../data/day2.txt') as f:\n",
    "    strategy_list = f.read()"
   ]
  },
  {
   "cell_type": "code",
   "execution_count": 12,
   "id": "58b48468-df3e-461d-8801-b9a682a4c395",
   "metadata": {},
   "outputs": [
    {
     "data": {
      "text/plain": [
       "12586"
      ]
     },
     "execution_count": 12,
     "metadata": {},
     "output_type": "execute_result"
    }
   ],
   "source": [
    "# A for Rock, B for Paper, and C for Scissors\n",
    "# X for Rock, Y for Paper, and Z for Scissors\n",
    "games = strategy_list.split('\\n')\n",
    "\n",
    "options = {\n",
    "    'A X': 4,\n",
    "    'B X': 1,\n",
    "    'C X': 7,\n",
    "    'A Y': 8,\n",
    "    'B Y': 5,\n",
    "    'C Y': 2,\n",
    "    'A Z': 3,\n",
    "    'B Z': 9,\n",
    "    'C Z': 6, \n",
    "}\n",
    "\n",
    "sum([options[i] for i in games])\n"
   ]
  },
  {
   "cell_type": "markdown",
   "id": "65b2cc86-e5bb-4b80-916f-abe8a5c9acc6",
   "metadata": {},
   "source": [
    "--- Part Two ---\n",
    "The Elf finishes helping with the tent and sneaks back over to you. \"Anyway, the second column says how the round needs to end: X means you need to lose, Y means you need to end the round in a draw, and Z means you need to win. Good luck!\"\n",
    "\n",
    "The total score is still calculated in the same way, but now you need to figure out what shape to choose so the round ends as indicated. The example above now goes like this:\n",
    "\n",
    "In the first round, your opponent will choose Rock (A), and you need the round to end in a draw (Y), so you also choose Rock. This gives you a score of 1 + 3 = 4.\n",
    "In the second round, your opponent will choose Paper (B), and you choose Rock so you lose (X) with a score of 1 + 0 = 1.\n",
    "In the third round, you will defeat your opponent's Scissors with Rock for a score of 1 + 6 = 7.\n",
    "Now that you're correctly decrypting the ultra top secret strategy guide, you would get a total score of 12.\n",
    "\n",
    "Following the Elf's instructions for the second column, what would your total score be if everything goes exactly according to your strategy guide?"
   ]
  },
  {
   "cell_type": "code",
   "execution_count": 14,
   "id": "016b2bd1-a39b-4bb5-9d36-99b85d68411b",
   "metadata": {},
   "outputs": [
    {
     "name": "stdout",
     "output_type": "stream",
     "text": [
      "13193\n"
     ]
    }
   ],
   "source": [
    "object_points = {'A': 1, 'B': 2, 'C': 3}\n",
    "outcome_points = {'X': 0, 'Y': 3, 'Z': 6}\n",
    "outcome_index = {'X': 0, 'Y': 1, 'Z': 2}\n",
    "outcome_map = {'A': 'CAB', 'B':'ABC', 'C': 'BCA'}\n",
    "\n",
    "count = 0\n",
    "for opp, outcome in [game.split(' ') for game in games]:\n",
    "    throw = outcome_map[opp][outcome_index[outcome]]\n",
    "    count += object_points[throw] + outcome_points[outcome]\n",
    "    \n",
    "print(count)\n"
   ]
  },
  {
   "cell_type": "code",
   "execution_count": null,
   "id": "8037b813-17b7-47d5-8b40-0bc3d225b436",
   "metadata": {},
   "outputs": [],
   "source": []
  }
 ],
 "metadata": {
  "kernelspec": {
   "display_name": "Python 3 (ipykernel)",
   "language": "python",
   "name": "python3"
  },
  "language_info": {
   "codemirror_mode": {
    "name": "ipython",
    "version": 3
   },
   "file_extension": ".py",
   "mimetype": "text/x-python",
   "name": "python",
   "nbconvert_exporter": "python",
   "pygments_lexer": "ipython3",
   "version": "3.10.4"
  }
 },
 "nbformat": 4,
 "nbformat_minor": 5
}
