{
 "cells": [
  {
   "cell_type": "markdown",
   "id": "5b204f12-7686-40d0-8d39-f24eabd074b2",
   "metadata": {},
   "source": [
    "--- Day 4: Camp Cleanup ---\n",
    "\n",
    "Space needs to be cleared before the last supplies can be unloaded from the ships, and so several Elves have been assigned the job of cleaning up sections of the camp. Every section has a unique ID number, and each Elf is assigned a range of section IDs.\n",
    "\n",
    "However, as some of the Elves compare their section assignments with each other, they've noticed that many of the assignments overlap. To try to quickly find overlaps and reduce duplicated effort, the Elves pair up and make a big list of the section assignments for each pair (your puzzle input).\n",
    "\n",
    "For example, consider the following list of section assignment pairs:\n",
    "\n",
    "2-4,6-8\n",
    "2-3,4-5\n",
    "5-7,7-9\n",
    "2-8,3-7\n",
    "6-6,4-6\n",
    "2-6,4-8\n",
    "For the first few pairs, this list means:\n",
    "\n",
    "Within the first pair of Elves, the first Elf was assigned sections 2-4 (sections 2, 3, and 4), while the second Elf was assigned sections 6-8 (sections 6, 7, 8).\n",
    "The Elves in the second pair were each assigned two sections.\n",
    "The Elves in the third pair were each assigned three sections: one got sections 5, 6, and 7, while the other also got 7, plus 8 and 9.\n",
    "This example list uses single-digit section IDs to make it easier to draw; your actual list might contain larger numbers. Visually, these pairs of section assignments look like this:\n",
    "\n",
    ".234.....  2-4\n",
    ".....678.  6-8\n",
    "\n",
    ".23......  2-3\n",
    "...45....  4-5\n",
    "\n",
    "....567..  5-7\n",
    "......789  7-9\n",
    "\n",
    ".2345678.  2-8\n",
    "..34567..  3-7\n",
    "\n",
    ".....6...  6-6\n",
    "...456...  4-6\n",
    "\n",
    ".23456...  2-6\n",
    "...45678.  4-8\n",
    "Some of the pairs have noticed that one of their assignments fully contains the other. For example, 2-8 fully contains 3-7, and 6-6 is fully contained by 4-6. In pairs where one assignment fully contains the other, one Elf in the pair would be exclusively cleaning sections their partner will already be cleaning, so these seem like the most in need of reconsideration. In this example, there are 2 such pairs.\n",
    "\n",
    "In how many assignment pairs does one range fully contain the other?\n",
    "\n"
   ]
  },
  {
   "cell_type": "code",
   "execution_count": 120,
   "id": "30a1bffd-99b8-4579-9a88-5cd2071a1db2",
   "metadata": {},
   "outputs": [],
   "source": [
    "with open('../data/day4.txt') as f:\n",
    "    input_data = f.read()\n",
    "\n",
    "    \n",
    "elf_pairs = [elf_pair.split(',') for elf_pair in input_data.split('\\n')]"
   ]
  },
  {
   "cell_type": "code",
   "execution_count": 104,
   "id": "6784b392-4abc-4a86-9c2e-6ecc7d4026f3",
   "metadata": {},
   "outputs": [
    {
     "data": {
      "text/plain": [
       "547"
      ]
     },
     "execution_count": 104,
     "metadata": {},
     "output_type": "execute_result"
    }
   ],
   "source": [
    "import numpy as np\n",
    "\n",
    "find_full_overlap = np.vectorize(\n",
    "    lambda elf1, elf2: \n",
    "    int(elf1.split('-')[0]) >= int(elf2.split('-')[0]) and \n",
    "    int(elf1.split('-')[1]) <= int(elf2.split('-')[1]) \n",
    ")\n",
    "\n",
    "\n",
    "full_overlap_mask = (\n",
    "    find_full_overlap(elf_pairs[:,0], elf_pairs[:,1]) + \n",
    "    find_full_overlap(elf_pairs[:,1], elf_pairs[:,0])\n",
    ")\n",
    "\n",
    "sum(full_overlap_mask)"
   ]
  },
  {
   "cell_type": "markdown",
   "id": "fff00f85-4d4b-42c2-a92f-15fc9644aa61",
   "metadata": {},
   "source": [
    "--- Part Two ---\n",
    "\n",
    "It seems like there is still quite a bit of duplicate work planned. Instead, the Elves would like to know the number of pairs that overlap at all.\n",
    "\n",
    "In the above example, the first two pairs (2-4,6-8 and 2-3,4-5) don't overlap, while the remaining four pairs (5-7,7-9, 2-8,3-7, 6-6,4-6, and 2-6,4-8) do overlap:\n",
    "\n",
    "5-7,7-9 overlaps in a single section, 7.\n",
    "2-8,3-7 overlaps all of the sections 3 through 7.\n",
    "6-6,4-6 overlaps in a single section, 6.\n",
    "2-6,4-8 overlaps in sections 4, 5, and 6.\n",
    "So, in this example, the number of overlapping assignment pairs is 4.\n",
    "\n",
    "In how many assignment pairs do the ranges overlap?"
   ]
  },
  {
   "cell_type": "code",
   "execution_count": 126,
   "id": "6637302c-f87f-456f-a0a9-9db09b78ac4f",
   "metadata": {},
   "outputs": [
    {
     "data": {
      "text/plain": [
       "843"
      ]
     },
     "execution_count": 126,
     "metadata": {},
     "output_type": "execute_result"
    }
   ],
   "source": [
    "def find_partial_overlap(elf1, elf2):\n",
    "    min1, max1 = elf1.split('-') \n",
    "    elf1_range = list(range(int(min1), int(max1) + 1))\n",
    "    min2, max2 = elf2.split('-')\n",
    "    elf2_range = list(range(int(min2), int(max2) + 1))\n",
    "\n",
    "    for i in elf1_range:\n",
    "        if i in elf2_range:\n",
    "            return True\n",
    "    return False\n",
    "\n",
    "sum([find_partial_overlap(pair[0], pair[1]) for pair in elf_pairs])\n"
   ]
  }
 ],
 "metadata": {
  "kernelspec": {
   "display_name": "Python 3 (ipykernel)",
   "language": "python",
   "name": "python3"
  },
  "language_info": {
   "codemirror_mode": {
    "name": "ipython",
    "version": 3
   },
   "file_extension": ".py",
   "mimetype": "text/x-python",
   "name": "python",
   "nbconvert_exporter": "python",
   "pygments_lexer": "ipython3",
   "version": "3.7.13"
  }
 },
 "nbformat": 4,
 "nbformat_minor": 5
}
