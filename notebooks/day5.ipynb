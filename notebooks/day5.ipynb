{
 "cells": [
  {
   "cell_type": "markdown",
   "id": "b04c23b8-edb8-49d6-a8f2-ddd1e06734fa",
   "metadata": {},
   "source": [
    "--- Day 5: Supply Stacks ---\n",
    "\n",
    "The expedition can depart as soon as the final supplies have been unloaded from the ships. Supplies are stored in stacks of marked crates, but because the needed supplies are buried under many other crates, the crates need to be rearranged.\n",
    "\n",
    "The ship has a giant cargo crane capable of moving crates between stacks. To ensure none of the crates get crushed or fall over, the crane operator will rearrange them in a series of carefully-planned steps. After the crates are rearranged, the desired crates will be at the top of each stack.\n",
    "\n",
    "The Elves don't want to interrupt the crane operator during this delicate procedure, but they forgot to ask her which crate will end up where, and they want to be ready to unload them as soon as possible so they can embark.\n",
    "\n",
    "They do, however, have a drawing of the starting stacks of crates and the rearrangement procedure (your puzzle input). For example:\n",
    "\n",
    "    [D]    \n",
    "[N] [C]    \n",
    "[Z] [M] [P]\n",
    " 1   2   3 \n",
    "\n",
    "move 1 from 2 to 1\n",
    "move 3 from 1 to 3\n",
    "move 2 from 2 to 1\n",
    "move 1 from 1 to 2\n",
    "In this example, there are three stacks of crates. Stack 1 contains two crates: crate Z is on the bottom, and crate N is on top. Stack 2 contains three crates; from bottom to top, they are crates M, C, and D. Finally, stack 3 contains a single crate, P.\n",
    "\n",
    "Then, the rearrangement procedure is given. In each step of the procedure, a quantity of crates is moved from one stack to a different stack. In the first step of the above rearrangement procedure, one crate is moved from stack 2 to stack 1, resulting in this configuration:\n",
    "\n",
    "[D]        \n",
    "[N] [C]    \n",
    "[Z] [M] [P]\n",
    " 1   2   3 \n",
    "In the second step, three crates are moved from stack 1 to stack 3. Crates are moved one at a time, so the first crate to be moved (D) ends up below the second and third crates:\n",
    "\n",
    "        [Z]\n",
    "        [N]\n",
    "    [C] [D]\n",
    "    [M] [P]\n",
    " 1   2   3\n",
    "Then, both crates are moved from stack 2 to stack 1. Again, because crates are moved one at a time, crate C ends up below crate M:\n",
    "\n",
    "        [Z]\n",
    "        [N]\n",
    "[M]     [D]\n",
    "[C]     [P]\n",
    " 1   2   3\n",
    "Finally, one crate is moved from stack 1 to stack 2:\n",
    "\n",
    "        [Z]\n",
    "        [N]\n",
    "        [D]\n",
    "[C] [M] [P]\n",
    " 1   2   3\n",
    "The Elves just need to know which crate will end up on top of each stack; in this example, the top crates are C in stack 1, M in stack 2, and Z in stack 3, so you should combine these together and give the Elves the message CMZ.\n",
    "\n",
    "After the rearrangement procedure completes, what crate ends up on top of each stack?\n",
    "\n"
   ]
  },
  {
   "cell_type": "markdown",
   "id": "1a9830d6-459c-4a6e-8b8f-cb7b135a06da",
   "metadata": {},
   "source": [
    "![](../images/stacks.png) "
   ]
  },
  {
   "cell_type": "code",
   "execution_count": 1,
   "id": "dfab51c9-6725-436f-b6b4-03ca320eb169",
   "metadata": {},
   "outputs": [],
   "source": [
    "def original_stacks():\n",
    "    return {\n",
    "        1: list('ZPMHR'), \n",
    "        2: list('PCJB'),\n",
    "        3: list('SNHGLCD'), \n",
    "        4: list('FTMDQSRL'),\n",
    "        5: list('FSPQBTZM'),\n",
    "        6: list('TFSZBG'),\n",
    "        7: list('NRV'),\n",
    "        8: list('PGLTDVCM'),\n",
    "        9: list('WQNJFML')\n",
    "    }"
   ]
  },
  {
   "cell_type": "code",
   "execution_count": 56,
   "id": "6e609239-10de-4caf-8244-1d6707ed2943",
   "metadata": {},
   "outputs": [],
   "source": [
    "with open('../data/day5.txt') as f:\n",
    "    input_data = [line.rstrip().split() for line in f]\n",
    "    \n",
    "steps = [(int(step[1]), int(step[3]), int(step[5])) for step in input_data] "
   ]
  },
  {
   "cell_type": "code",
   "execution_count": 57,
   "id": "de6f9d00-82c5-4cbe-b8e2-4904d863f687",
   "metadata": {},
   "outputs": [],
   "source": [
    "stacks = original_stacks()\n",
    "\n",
    "for step in steps:\n",
    "    stacks[step[2]] += stacks[step[1]][-step[0]:][::-1]\n",
    "    del stacks[step[1]][-step[0]:]"
   ]
  },
  {
   "cell_type": "code",
   "execution_count": 58,
   "id": "7d21b56e-68cc-472e-81fb-f10f4d0dcc41",
   "metadata": {},
   "outputs": [
    {
     "data": {
      "text/plain": [
       "'VQZNJMWTR'"
      ]
     },
     "execution_count": 58,
     "metadata": {},
     "output_type": "execute_result"
    }
   ],
   "source": [
    "''.join([stacks[i][-1] for i in range(1,10)])"
   ]
  },
  {
   "cell_type": "markdown",
   "id": "2cc165d2-d856-43ed-8f29-db9433e0dbc1",
   "metadata": {},
   "source": [
    "--- Part Two ---\n",
    "\n",
    "As you watch the crane operator expertly rearrange the crates, you notice the process isn't following your prediction.\n",
    "\n",
    "Some mud was covering the writing on the side of the crane, and you quickly wipe it away. The crane isn't a CrateMover 9000 - it's a CrateMover 9001.\n",
    "\n",
    "The CrateMover 9001 is notable for many new and exciting features: air conditioning, leather seats, an extra cup holder, and the ability to pick up and move multiple crates at once.\n",
    "\n",
    "Again considering the example above, the crates begin in the same configuration:\n",
    "\n",
    "    [D]    \n",
    "[N] [C]    \n",
    "[Z] [M] [P]\n",
    " 1   2   3 \n",
    "Moving a single crate from stack 2 to stack 1 behaves the same as before:\n",
    "\n",
    "[D]        \n",
    "[N] [C]    \n",
    "[Z] [M] [P]\n",
    " 1   2   3 \n",
    "However, the action of moving three crates from stack 1 to stack 3 means that those three moved crates stay in the same order, resulting in this new configuration:\n",
    "\n",
    "        [D]\n",
    "        [N]\n",
    "    [C] [Z]\n",
    "    [M] [P]\n",
    " 1   2   3\n",
    "Next, as both crates are moved from stack 2 to stack 1, they retain their order as well:\n",
    "\n",
    "        [D]\n",
    "        [N]\n",
    "[C]     [Z]\n",
    "[M]     [P]\n",
    " 1   2   3\n",
    "Finally, a single crate is still moved from stack 1 to stack 2, but now it's crate C that gets moved:\n",
    "\n",
    "        [D]\n",
    "        [N]\n",
    "        [Z]\n",
    "[M] [C] [P]\n",
    " 1   2   3\n",
    "In this example, the CrateMover 9001 has put the crates in a totally different order: MCD.\n",
    "\n",
    "Before the rearrangement process finishes, update your simulation so that the Elves know where they should stand to be ready to unload the final supplies. After the rearrangement procedure completes, what crate ends up on top of each stack?\n",
    "\n"
   ]
  },
  {
   "cell_type": "code",
   "execution_count": 59,
   "id": "c27bb633-b8bb-4537-be4f-55a8625414dc",
   "metadata": {},
   "outputs": [],
   "source": [
    "stacks = original_stacks()\n",
    "\n",
    "for step in steps:\n",
    "    stacks[step[2]] += stacks[step[1]][-step[0]:]\n",
    "    del stacks[step[1]][-step[0]:]"
   ]
  },
  {
   "cell_type": "code",
   "execution_count": 50,
   "id": "c9f9ab4c-1081-45fd-8bf7-4884332aa593",
   "metadata": {},
   "outputs": [
    {
     "data": {
      "text/plain": [
       "{1: ['D', 'G', 'V'],\n",
       " 2: ['G',\n",
       "  'P',\n",
       "  'Q',\n",
       "  'T',\n",
       "  'C',\n",
       "  'B',\n",
       "  'T',\n",
       "  'M',\n",
       "  'C',\n",
       "  'V',\n",
       "  'S',\n",
       "  'M',\n",
       "  'R',\n",
       "  'F',\n",
       "  'Q'],\n",
       " 3: ['P', 'S', 'M', 'Z', 'Z'],\n",
       " 4: ['M', 'F', 'L', 'F', 'P', 'B', 'N', 'S', 'L', 'L', 'D', 'N'],\n",
       " 5: ['J'],\n",
       " 6: ['N', 'H', 'R', 'Z', 'L', 'Q', 'M'],\n",
       " 7: ['H', 'P', 'C', 'W'],\n",
       " 8: ['D', 'S', 'T'],\n",
       " 9: ['G', 'J', 'F', 'B', 'T', 'R']}"
      ]
     },
     "execution_count": 50,
     "metadata": {},
     "output_type": "execute_result"
    }
   ],
   "source": [
    "stacks"
   ]
  },
  {
   "cell_type": "code",
   "execution_count": 14,
   "id": "3cd4572c-224f-4020-861f-eff1e0dfa3af",
   "metadata": {},
   "outputs": [],
   "source": [
    "with open('../data/day5.txt') as f:\n",
    "    input_data = [line.rstrip().split() for line in f]\n",
    "    \n",
    "steps = [(int(step[1]), int(step[3]), int(step[5])) for step in input_data] "
   ]
  },
  {
   "cell_type": "code",
   "execution_count": 83,
   "id": "94893ebf-f5e8-4243-9fa7-8c1c4cd36f9b",
   "metadata": {},
   "outputs": [
    {
     "name": "stderr",
     "output_type": "stream",
     "text": [
      "MovieWriter imagemagick unavailable; using Pillow instead.\n"
     ]
    },
    {
     "data": {
      "image/png": "[encoded data removed]",
      "text/plain": [
       "<Figure size 500x1500 with 1 Axes>"
      ]
     },
     "metadata": {},
     "output_type": "display_data"
    }
   ],
   "source": [
    "import numpy as np\n",
    "import matplotlib.pyplot as plt\n",
    "from matplotlib.animation import FuncAnimation\n",
    "\n",
    "stacks = original_stacks()\n",
    "\n",
    "with open('../data/day5.txt') as f:\n",
    "    input_data = [line.rstrip().split() for line in f]\n",
    "    \n",
    "steps = [(int(step[1]), int(step[3]), int(step[5])) for step in input_data] \n",
    "\n",
    "fig, ax = plt.subplots(figsize=(5, 15))\n",
    "x = list(range(1, len(stacks) + 1))\n",
    "y = [len(stacks[i + 1]) for i in range(len(stacks))]\n",
    "bars = ax.bar(x,y, width=0.98, color='#362419')\n",
    "y_top = 50\n",
    "ax.set_ylim(0, y_top)\n",
    "ax.set_xlim(0.5,9.5)\n",
    "ax.hlines(list(range(y_top)), xmin=0, xmax=10, colors='white')\n",
    "\n",
    "def update(i):\n",
    "    plt.title(f'Step: {i}')\n",
    "    step = steps[i]\n",
    "    stacks[step[2]] += stacks[step[1]][-step[0]:][::-1]\n",
    "    del stacks[step[1]][-step[0]:]\n",
    "    y = [len(stacks[i + 1]) for i in range(len(stacks))]\n",
    "    for bar, h in zip(bars, y):\n",
    "        bar.set_height(h)\n",
    "    for txt in ax.texts:\n",
    "        txt.set_visible(False)\n",
    "    for k,v in stacks.items():\n",
    "        for c, letter in enumerate(v):\n",
    "            ax.text(k - 0.15 ,c + 0.3,letter, color='white')\n",
    "    return bars\n",
    "\n",
    "\n",
    "ani = FuncAnimation(fig, update, frames=len(steps), blit=True)\n",
    "ani.save('moving_bars.gif', writer='imagemagick')"
   ]
  },
  {
   "cell_type": "code",
   "execution_count": 13,
   "id": "fab018a6-80fc-41d0-aff8-ec2c93edb4bd",
   "metadata": {},
   "outputs": [],
   "source": [
    "with open('../data/day5.txt') as f:\n",
    "    input_data = [line.rstrip().split() for line in f]\n",
    "    \n",
    "steps = [(int(step[1]), int(step[3]), int(step[5])) for step in input_data] "
   ]
  },
  {
   "cell_type": "code",
   "execution_count": null,
   "id": "2ff74cfe-8c11-4105-9276-45f2434a5c4a",
   "metadata": {},
   "outputs": [],
   "source": [
    "for step in steps:\n",
    "    stacks[step[2]] += stacks[step[1]][-step[0]:][::-1]\n",
    "    del stacks[step[1]][-step[0]:]"
   ]
  }
 ],
 "metadata": {
  "kernelspec": {
   "display_name": "Python 3 (ipykernel)",
   "language": "python",
   "name": "python3"
  },
  "language_info": {
   "codemirror_mode": {
    "name": "ipython",
    "version": 3
   },
   "file_extension": ".py",
   "mimetype": "text/x-python",
   "name": "python",
   "nbconvert_exporter": "python",
   "pygments_lexer": "ipython3",
   "version": "3.10.4"
  }
 },
 "nbformat": 4,
 "nbformat_minor": 5
}
